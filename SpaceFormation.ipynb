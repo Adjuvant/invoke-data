{
 "cells": [
  {
   "cell_type": "code",
   "execution_count": 1,
   "metadata": {
    "scrolled": true
   },
   "outputs": [],
   "source": [
    "import json\n",
    "from pandas.io.json import json_normalize\n",
    "import pandas as pd\n",
    "import numpy as np\n",
    "from datetime import datetime\n",
    "\n",
    "def fix_vector(x):\n",
    "    if type(x) == dict:\n",
    "        return np.array(list(x.values()), dtype=float)\n",
    "\n",
    "files = ['P1/U3/2019-08-23-10-08-46_Session_2_Scene_Voicedraw_User_3_Name_Dafat_Player_1_PH_Right.json',\n",
    "         'P2/U4/2019-08-23-10-08-47_Session_2_Scene_Voicedraw_User_4_Name_Brnor_Player_2_PH_Left.json']   \n",
    "    \n",
    "sdf = pd.DataFrame() #creates a new dataframe that's empty\n",
    "\n",
    "for file in files:\n",
    "    with open(file, 'r') as f:\n",
    "         data = json.load(f)\n",
    "\n",
    "\n",
    "    df = json_normalize(data,record_path=['Events'])\n",
    "\n",
    "    # Fix position data, convert from dict to numpy array\n",
    "    df.endPosition.fillna(value=np.nan, inplace=True)\n",
    "    df.startPosition = df.startPosition.apply(lambda x: fix_vector(x))        \n",
    "    df.endPosition = df.endPosition.apply(lambda x: fix_vector(x))\n",
    "\n",
    "    # Fix Time\n",
    "    \n",
    "    df.dateTime = df.dateTime.apply(lambda x: x.replace(\"T\",\"-\"))\n",
    "    df.dateTime = df.dateTime.apply(lambda x: x.replace(\":\",\" \"))\n",
    "    df.dateTime = df.dateTime.apply(lambda x: x.replace(\".\",\" \"))\n",
    "    df.dateTime = df.dateTime.apply(lambda x: x.replace(\"-\",\" \"))\n",
    "    # Remove the last millisecond unit\n",
    "    df.dateTime = df.dateTime.apply(lambda x: x[0:-1])\n",
    "    df.dateTime = df.dateTime.apply(lambda x: np.datetime64(datetime.strptime(x, '%Y %m %d %H %M %S %f')))\n",
    "\n",
    "    # Remove redundant cols\n",
    "    valuelist = ['avgVelocity','duration','finalValue','hand','id','initialValue','owner']\n",
    "    df = df.drop(columns=valuelist)\n",
    "\n",
    "    # Parse Teleports\n",
    "    valuelist = ['PlayerConnect','Teleport']\n",
    "    df = df[df.logType.isin(valuelist)]\n",
    "    df = df.reset_index()\n",
    "    df = df.drop(columns='level_0')\n",
    "    df['uid'] = file[4]\n",
    "    \n",
    "    df.at[1,'startPosition'] = np.array([0.0,0.0,0.0],dtype=float)\n",
    "    for i in range( 2,len(df.index) ):\n",
    "        df.at[i,'startPosition'] = df.endPosition.iloc[i-1]\n",
    "        \n",
    "    sdf = sdf.append(df, ignore_index = True) # ignoring index is optional\n",
    "\n",
    "sdf = sdf.sort_values('dateTime')\n",
    "sdf = sdf.reset_index()\n",
    "sdf = sdf.drop(columns='level_0')\n",
    "# inter-personal teleport distance\n",
    "sdf['iptd'] = 0.0\n",
    "\n",
    "# lookup\n",
    "lup = {}\n",
    "lup['3'] = np.array([0.0,0.0,0.0],dtype=float)\n",
    "lup['4'] = np.array([0.0,0.0,0.0],dtype=float)\n",
    "\n",
    "for i in range( 2,len(sdf.index) ):\n",
    "    #print(i)\n",
    "    # Update last position of player who TELEPORTED\n",
    "    uid = sdf.at[i,'uid']\n",
    "    #print(uid)\n",
    "    lup[uid] = sdf.at[i,'endPosition']\n",
    "    #print(lup[uid])\n",
    "    # Compute distance from current end position to last position of other player\n",
    "    sdf.at[i,'iptd'] = np.linalg.norm(lup['3']-lup['4'])\n",
    "\n",
    "sdf['dt'] = 0\n",
    "# int(round(sdf.at[0,'dateTime'].timestamp() * 1e3))\n",
    "for i in range(1,len(sdf.index)):\n",
    "    sdf.at[i,'dt'] = sdf.at[i,'dateTime'].timestamp() - sdf.at[0,'dateTime'].timestamp()"
   ]
  },
  {
   "cell_type": "code",
   "execution_count": 2,
   "metadata": {},
   "outputs": [
    {
     "data": {
      "application/vnd.jupyter.widget-view+json": {
       "model_id": "82760cb9cc9041f0b1655a7f417b05cf",
       "version_major": 2,
       "version_minor": 0
      }
     },
     "metadata": {},
     "output_type": "display_data"
    }
   ],
   "source": [
    "from beakerx import *\n",
    "import time\n",
    "\n",
    "plot = TimePlot()\n",
    "\n",
    "plot.add(Line(x=sdf.dt, y=sdf.iptd))\n",
    "plot.add(ConstantLine(x=sdf.dt[1:1], style=StrokeType.DOT, color=Color.red))\n",
    "plot"
   ]
  },
  {
   "cell_type": "code",
   "execution_count": 3,
   "metadata": {},
   "outputs": [],
   "source": [
    "from datetime import datetime\n",
    "import json\n",
    "from pandas.io.json import json_normalize\n",
    "import pandas as pd\n",
    "import numpy as np\n",
    "from beakerx import *\n",
    "import time\n",
    "\n",
    "def fix_vector(x):\n",
    "    if type(x) == dict:\n",
    "        return np.array(list(x.values()), dtype=float)\n",
    "\n",
    "def parse_teleport_df(user_id):\n",
    "    p1 = str(user_id)\n",
    "    p2 = str(user_id+1)\n",
    "    print(\"Getting data for \" + p1 + \" and \" + p2)\n",
    "    tf = ['U/X.json','U/X.json']\n",
    "    tf[0] = tf[0].replace(\"X\",p1)\n",
    "    tf[1] = tf[1].replace(\"X\",p2)\n",
    "    sdf = pd.DataFrame() #creates a new dataframe that's empty\n",
    "    print(\"From \" + tf[0] + \" and \" + tf[1])\n",
    "    for file in tf:\n",
    "        with open(file, 'r') as f:\n",
    "             data = json.load(f)\n",
    "\n",
    "        df = json_normalize(data,record_path=['Events'])\n",
    "\n",
    "        # Fix position data, convert from dict to numpy array\n",
    "        df.endPosition.fillna(value=np.nan, inplace=True)\n",
    "        df.startPosition = df.startPosition.apply(lambda x: fix_vector(x))        \n",
    "        df.endPosition = df.endPosition.apply(lambda x: fix_vector(x))\n",
    "\n",
    "        # Fix Time\n",
    "        \n",
    "        df.dateTime = df.dateTime.apply(lambda x: x.replace(\"T\",\"-\"))\n",
    "        df.dateTime = df.dateTime.apply(lambda x: x.replace(\":\",\" \"))\n",
    "        df.dateTime = df.dateTime.apply(lambda x: x.replace(\".\",\" \"))\n",
    "        df.dateTime = df.dateTime.apply(lambda x: x.replace(\"-\",\" \"))\n",
    "        # Remove the last millisecond unit\n",
    "        df.dateTime = df.dateTime.apply(lambda x: x[0:-1])\n",
    "        df.dateTime = df.dateTime.apply(lambda x: np.datetime64(datetime.strptime(x, '%Y %m %d %H %M %S %f')))\n",
    "\n",
    "        # Remove redundant cols\n",
    "        valuelist = ['avgVelocity','duration','finalValue','hand','id','initialValue','owner']\n",
    "        df = df.drop(columns=valuelist)\n",
    "\n",
    "        # Parse Teleports\n",
    "        valuelist = ['PlayerConnect','Teleport']\n",
    "        df = df[df.logType.isin(valuelist)]\n",
    "        df = df.reset_index()\n",
    "        df = df.drop(columns='level_0')\n",
    "\n",
    "        if int(float(file[2:4])) < 10:\n",
    "            df['uid'] = file[2]\n",
    "        else:\n",
    "            df['uid'] = file[2:4]\n",
    "\n",
    "        df.at[1,'startPosition'] = np.array([0.0,0.0,0.0],dtype=float)\n",
    "        for i in range( 2,len(df.index) ):\n",
    "            df.at[i,'startPosition'] = df.endPosition.iloc[i-1]\n",
    "\n",
    "        sdf = sdf.append(df, ignore_index = True) # ignoring index is optional\n",
    "\n",
    "    sdf = sdf.sort_values('dateTime')\n",
    "    sdf = sdf.reset_index()\n",
    "    sdf = sdf.drop(columns='level_0')\n",
    "    # inter-personal teleport distance\n",
    "    sdf['iptd'] = 0.0\n",
    "\n",
    "    # lookup\n",
    "    lup = {}\n",
    "    lup[str(user_id)] = np.array([0.0,0.0,0.0],dtype=float)\n",
    "    lup[str(user_id+1)] = np.array([0.0,0.0,0.0],dtype=float)\n",
    "\n",
    "    for i in range( 2,len(sdf.index) ):\n",
    "        #print(i)\n",
    "        # Update last position of player who TELEPORTED\n",
    "        uid = sdf.at[i,'uid']\n",
    "        #print(uid)\n",
    "        lup[uid] = sdf.at[i,'endPosition']\n",
    "        #print(lup[uid])\n",
    "        # Compute distance from current end position to last position of other player\n",
    "        sdf.at[i,'iptd'] = np.linalg.norm(lup[str(user_id)]-lup[str(user_id+1)])\n",
    "\n",
    "    sdf['dt'] = 0\n",
    "    # int(round(sdf.at[0,'dateTime'].timestamp() * 1e3))\n",
    "    for i in range(1,len(sdf.index)):\n",
    "        sdf.at[i,'dt'] = sdf.at[i,'dateTime'].timestamp() - sdf.at[0,'dateTime'].timestamp()\n",
    "    \n",
    "    return sdf\n"
   ]
  },
  {
   "cell_type": "code",
   "execution_count": 4,
   "metadata": {},
   "outputs": [
    {
     "name": "stdout",
     "output_type": "stream",
     "text": [
      "Getting data for 1 and 2\n",
      "From U/1.json and U/2.json\n",
      "Getting data for 3 and 4\n",
      "From U/3.json and U/4.json\n",
      "Getting data for 5 and 6\n",
      "From U/5.json and U/6.json\n",
      "Getting data for 7 and 8\n",
      "From U/7.json and U/8.json\n",
      "Getting data for 9 and 10\n",
      "From U/9.json and U/10.json\n",
      "Getting data for 11 and 12\n",
      "From U/11.json and U/12.json\n"
     ]
    }
   ],
   "source": [
    "\n",
    "sdfs = []\n",
    "for i in range(1,12,2):\n",
    "    sdfs.append(parse_teleport_df(i))\n",
    "    "
   ]
  },
  {
   "cell_type": "code",
   "execution_count": 5,
   "metadata": {},
   "outputs": [
    {
     "data": {
      "application/vnd.jupyter.widget-view+json": {
       "model_id": "c75c1b7eb72249a1beecf837518a6965",
       "version_major": 2,
       "version_minor": 0
      }
     },
     "metadata": {},
     "output_type": "display_data"
    }
   ],
   "source": [
    "from datetime import timedelta\n",
    "\n",
    "plot = TimePlot(legendLayout= LegendLayout.HORIZONTAL, legendPosition= LegendPosition(position=LegendPosition.Position.TOP))\n",
    "cc = [Color.magenta, Color.red, Color.orange, Color.green, Color.blue, Color.pink]\n",
    "\n",
    "now = datetime.fromtimestamp(0)\n",
    "\n",
    "for s in sdfs:\n",
    "    sid = int((int(s.uid[0])+1)/2)\n",
    "    # Could apply offset here to get rough sync points on videos? Not for overall dispaly though. \n",
    "    t = s.dt.apply(lambda x: now+timedelta(seconds=x))\n",
    "    \n",
    "    plot.add(Points      (x= t, y=s.iptd, size=10, shape=ShapeType.DIAMOND, displayName=str(sid)+\"D\", color=cc[sid-1]))\n",
    "    plot.add(Line        (x= t, y=s.iptd, displayName=str(sid)+\"L\", color=cc[sid-1]))\n",
    "    \n",
    "    m = s.iptd.mean()\n",
    "    std = s.iptd.std()\n",
    "    \n",
    "    plot.add(ConstantLine(y= m, displayName=str(sid)+\"M\", color=cc[sid-1], showLabel=True))\n",
    "    plot.add(ConstantBand(y= [m-std/2, m+std/2], color=Color(cc[sid-1].R, cc[sid-1].G, cc[sid-1].B, 25), displayName=str(sid)+\"B\", ))\n",
    "plot"
   ]
  },
  {
   "cell_type": "code",
   "execution_count": 6,
   "metadata": {},
   "outputs": [
    {
     "data": {
      "application/vnd.jupyter.widget-view+json": {
       "model_id": "8147ff3306ab486ba7f52a12bbd35fc9",
       "version_major": 2,
       "version_minor": 0
      }
     },
     "metadata": {},
     "output_type": "display_data"
    }
   ],
   "source": [
    "plot = TimePlot(legendLayout= LegendLayout.HORIZONTAL, legendPosition= LegendPosition(position=LegendPosition.Position.TOP))\n",
    "cc = [Color.magenta, Color.red, Color.orange, Color.green, Color.blue, Color.pink]\n",
    "offsets = [0,0,0,0,0,39-15]\n",
    "\n",
    "now = datetime.fromtimestamp(0)\n",
    "sid = 6-1\n",
    "\n",
    "# Could apply offset here to get rough sync points on videos? Not for overall dispaly though. \n",
    "t = sdfs[sid].dt.apply(lambda x: now+timedelta(seconds=x + offsets[sid]))\n",
    "\n",
    "plot.add(Points      (x= t, y=sdfs[sid].iptd, size=10, shape=ShapeType.DIAMOND, displayName=str(sid)+\"D\", color=cc[sid-1]))\n",
    "plot.add(Line        (x= t, y=sdfs[sid].iptd, displayName=str(sid)+\"L\", color=cc[sid-1]))\n",
    "\n",
    "m = sdfs[sid].iptd.mean()\n",
    "std = sdfs[sid].iptd.std()\n",
    "\n",
    "plot.add(ConstantLine(y= m, displayName=str(sid)+\"M\", color=cc[sid-1], showLabel=True))\n",
    "plot.add(ConstantBand(y= [m-std/2, m+std/2], color=Color(cc[sid-1].R, cc[sid-1].G, cc[sid-1].B, 25), displayName=str(sid)+\"B\", ))\n",
    "plot"
   ]
  },
  {
   "cell_type": "code",
   "execution_count": 17,
   "metadata": {},
   "outputs": [
    {
     "data": {
      "text/plain": [
       "5.518272562279954"
      ]
     },
     "execution_count": 17,
     "metadata": {},
     "output_type": "execute_result"
    }
   ],
   "source": [
    "std"
   ]
  },
  {
   "cell_type": "code",
   "execution_count": 7,
   "metadata": {},
   "outputs": [
    {
     "name": "stderr",
     "output_type": "stream",
     "text": [
      "C:\\ProgramData\\Anaconda3\\envs\\beakerx\\lib\\site-packages\\ipykernel_launcher.py:4: SettingWithCopyWarning: \n",
      "A value is trying to be set on a copy of a slice from a DataFrame.\n",
      "Try using .loc[row_indexer,col_indexer] = value instead\n",
      "\n",
      "See the caveats in the documentation: http://pandas.pydata.org/pandas-docs/stable/indexing.html#indexing-view-versus-copy\n",
      "  after removing the cwd from sys.path.\n",
      "C:\\ProgramData\\Anaconda3\\envs\\beakerx\\lib\\site-packages\\ipykernel_launcher.py:5: SettingWithCopyWarning: \n",
      "A value is trying to be set on a copy of a slice from a DataFrame.\n",
      "Try using .loc[row_indexer,col_indexer] = value instead\n",
      "\n",
      "See the caveats in the documentation: http://pandas.pydata.org/pandas-docs/stable/indexing.html#indexing-view-versus-copy\n",
      "  \"\"\"\n",
      "C:\\ProgramData\\Anaconda3\\envs\\beakerx\\lib\\site-packages\\pandas\\core\\indexing.py:543: SettingWithCopyWarning: \n",
      "A value is trying to be set on a copy of a slice from a DataFrame.\n",
      "Try using .loc[row_indexer,col_indexer] = value instead\n",
      "\n",
      "See the caveats in the documentation: http://pandas.pydata.org/pandas-docs/stable/indexing.html#indexing-view-versus-copy\n",
      "  self.obj[item] = s\n"
     ]
    }
   ],
   "source": [
    "positions = sdfs[1][sdfs[1].logType=='Teleport']\n",
    "# positions.endPosition.iloc[1][0,2]\n",
    "\n",
    "positions['x'] = float(0)\n",
    "positions['z'] = float(0)\n",
    "for index, row in positions.iterrows():\n",
    "    positions.loc[index,'x'] = positions.loc[index,'endPosition'][0,0]\n",
    "    positions.loc[index,'z'] = positions.loc[index,'endPosition'][0,2]\n",
    "#     positions.loc[index,'x'] = row.endPosition[0,0]\n",
    "#     positions.loc[index,'z'] = row.endPosition[0,2]\n"
   ]
  },
  {
   "cell_type": "code",
   "execution_count": 8,
   "metadata": {},
   "outputs": [
    {
     "data": {
      "application/vnd.jupyter.widget-view+json": {
       "model_id": "27aba493edb1475d8fafd0e1c6e59093",
       "version_major": 2,
       "version_minor": 0
      }
     },
     "metadata": {},
     "output_type": "display_data"
    }
   ],
   "source": [
    "# Heatmap ref - \n",
    "\n",
    "pp = Plot(title='Bars, Lines, Points and 2nd yAxis', \n",
    "          xLabel=\"xLabel\", \n",
    "          yLabel=\"yLabel\", \n",
    "          legendLayout=LegendLayout.HORIZONTAL,\n",
    "          legendPosition=LegendPosition(position=LegendPosition.Position.RIGHT))\n",
    "pp.add(Points(x=positions[positions.uid=='3'].x, \n",
    "              y=positions[positions.uid=='3'].z, \n",
    "              size=10, \n",
    "              shape=ShapeType.DIAMOND))\n",
    "pp.add(Points(x=positions[positions.uid=='4'].x, \n",
    "              y=positions[positions.uid=='4'].z, \n",
    "              size=10, \n",
    "              shape=ShapeType.DIAMOND))\n",
    "\n",
    "pp\n",
    "\n"
   ]
  },
  {
   "cell_type": "code",
   "execution_count": 9,
   "metadata": {},
   "outputs": [
    {
     "data": {
      "image/png": "[encoded data removed]",
      "text/plain": [
       "<Figure size 432x288 with 1 Axes>"
      ]
     },
     "metadata": {
      "needs_background": "light"
     },
     "output_type": "display_data"
    }
   ],
   "source": [
    "\n",
    "from mpl_toolkits.mplot3d import Axes3D\n",
    "import matplotlib.pyplot as plt\n",
    "\n",
    "\n",
    "\n",
    "fig = plt.figure()\n",
    "ax = fig.add_subplot(111, projection='3d')\n",
    "\n",
    "x =positions[positions.uid=='3'].x\n",
    "y =positions[positions.uid=='3'].z\n",
    "z =positions[positions.uid=='3'].iptd\n",
    "\n",
    "\n",
    "\n",
    "ax.plot(x, y, z, c='r', marker='o')\n",
    "\n",
    "x =positions[positions.uid=='4'].x\n",
    "y =positions[positions.uid=='4'].z\n",
    "z =positions[positions.uid=='4'].iptd\n",
    "\n",
    "ax.plot(x, y, z, c='b', marker='o')\n",
    "\n",
    "ax.set_xlabel('X')\n",
    "ax.set_ylabel('Y')\n",
    "ax.set_zlabel('IPTD')\n",
    "# ax.view_init(elev=15)\n",
    "# ax.view_init(azim=45)\n",
    "\n",
    "plt.show()"
   ]
  }
 ],
 "metadata": {
  "kernelspec": {
   "display_name": "Python 3",
   "language": "python",
   "name": "python3"
  },
  "language_info": {
   "codemirror_mode": {
    "name": "ipython",
    "version": 3
   },
   "file_extension": ".py",
   "mimetype": "text/x-python",
   "name": "python",
   "nbconvert_exporter": "python",
   "pygments_lexer": "ipython3",
   "version": "3.7.3"
  },
  "toc": {
   "base_numbering": 1,
   "nav_menu": {},
   "number_sections": false,
   "sideBar": false,
   "skip_h1_title": false,
   "title_cell": "Table of Contents",
   "title_sidebar": "Contents",
   "toc_cell": false,
   "toc_position": {},
   "toc_section_display": false,
   "toc_window_display": false
  }
 },
 "nbformat": 4,
 "nbformat_minor": 2
}
